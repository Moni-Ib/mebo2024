{
 "cells": [
  {
   "cell_type": "markdown",
   "metadata": {},
   "source": [
    "# Variables Aleatorias Discretas\n",
    "\n",
    "<img style=\"float: right; margin: 0px 0px 15px 15px;\" src=\"https://storage.needpix.com/rsynced_images/bayesian-2889576_1280.png\" width=\"200px\" height=\"180px\" />\n",
    "\n",
    "> Habiendo estudiado el repaso de teoría de probabilidad, empezaremos por estudiar variables aleatorias discretas.\n",
    "\n",
    "\n",
    "> **Objetivos:**\n",
    "> - Repasar la definición de variables aleatorias discretas.\n",
    "> - Repasar las variabels aleatorias de Bernoulli, binomial y geométricas, y los fenómenos que modelan.\n",
    "> - Definir la función de masa de probabilidad y la función de distribución acumulada, usando tablas o fórmulas.\n",
    "> - Definir el valor esperado (media) de una VA discreta.\n",
    "\n",
    "\n",
    "> **Referencias:**\n",
    "> \n",
    "> - Pattern Recognition and Machine Learning, by Christopher M. Bishop. Cap 1.2.\n",
    "> - https://ocw.mit.edu/courses/18-05-introduction-to-probability-and-statistics-spring-2022/mit18_05_s22_probability.pdf\n",
    "\n",
    "\n",
    "<p style=\"text-align:right;\"> Imagen recuperada de: https://storage.needpix.com/rsynced_images/bayesian-2889576_1280.png.</p>\n",
    "\n",
    "___"
   ]
  },
  {
   "cell_type": "markdown",
   "metadata": {},
   "source": [
    "## 0. Recap\n",
    "\n",
    "- Un espacio muestral discreto $\\Omega$ es un conjunto finito o enumerable de resultados $\\Omega = \\{\\omega_1, \\omega_2, \\dots\\}$.\n",
    "\n",
    "- La probabilidad de un resultado $\\omega$ es $p(\\omega)$.\n",
    "\n",
    "- Un evento $E$ es un subconjunto de $\\Omega$. La probabilidad de un evento $E$ es $p(E) = \\sum_{\\omega \\in E} p(\\omega)$."
   ]
  },
  {
   "cell_type": "markdown",
   "metadata": {},
   "source": [
    "## 1. Variables aleatorias (VA) discretas\n",
    "\n",
    "**Definición.** Sea $\\Omega$ un espacio muestral discreto. Una VA discreta es una función\n",
    "\n",
    "$$\n",
    "X: \\Omega \\to \\mathbb{R}.\n",
    "$$"
   ]
  },
  {
   "cell_type": "markdown",
   "metadata": {},
   "source": [
    "\n",
    "**Ejemplo.** Supongamos que jugamos con dos dados.\n",
    "\n",
    "Al tirarlos, los resultados son:\n",
    "\n",
    "$$\n",
    "\\Omega = \\{(i,j): i,j=1, 2, \\dots, 6\\}.\n",
    "$$\n",
    "\n",
    "La función de probabilidad, si los dados son justos, es $p(i, j) = \\frac{1}{36}$.\n",
    "\n",
    "Supongamos que estamos en un juego, donde ganamos $500 si la suma de $i$ y $j$ es 7. Caso contrario perdemos $100. Podemos definir una VA discreta con esta función de pago:\n",
    "\n",
    "$$\n",
    "X(i,j) = \\left\\lbrace\n",
    "\\begin{array}{lc}\n",
    "500  &  \\text{if } i+j=7 \\\\ \n",
    "-100 &  \\text{if } i+j\\neq7\n",
    "\\end{array}\n",
    "\\right .\n",
    "$$"
   ]
  },
  {
   "cell_type": "markdown",
   "metadata": {},
   "source": [
    "![dice](https://upload.wikimedia.org/wikipedia/commons/thumb/c/c4/2-Dice-Icon.svg/600px-2-Dice-Icon.svg.png)"
   ]
  },
  {
   "cell_type": "markdown",
   "metadata": {},
   "source": [
    "**Definición.** La función de masa de probabilidad (pmf por sus siglas en inglés) de una VA discreta es la función $p(a) = p(X=a)$.\n",
    "\n",
    "Es fácil notar que:\n",
    "\n",
    "- $0 \\leq p(a) \\leq 1$.\n",
    "- $a$ puede ser cualquier número. Si $a$ es un número que $X$ nunca toma, entonces $p(a)=0$."
   ]
  },
  {
   "cell_type": "markdown",
   "metadata": {},
   "source": [
    "**Ejemplo.** Consideramos el tiro de un solo dado. El dado está cargado, de modo que solo salen los valores $1$, $5$ y $6$, y de modo que la función de probabilidad sea:\n",
    "$$\n",
    "p(X) = \\left\\{\\begin{array}{cc }0.3 & X=2 \\\\ 0.3 & X=5 \\\\ 0.4 & X=8\\end{array}\\right.\n",
    "$$"
   ]
  },
  {
   "cell_type": "code",
   "execution_count": null,
   "metadata": {},
   "outputs": [],
   "source": [
    "# Importar scipy.stats\n"
   ]
  },
  {
   "cell_type": "code",
   "execution_count": null,
   "metadata": {},
   "outputs": [],
   "source": [
    "# Definir listas de valores de X y probabilidades asociadas\n"
   ]
  },
  {
   "cell_type": "code",
   "execution_count": null,
   "metadata": {},
   "outputs": [],
   "source": [
    "# Grafico\n"
   ]
  },
  {
   "cell_type": "markdown",
   "metadata": {},
   "source": [
    "**Definición.** La función de distribución acumulada (cdf por sus siglas en inglés) de una VA discreta $X$ es la función $F$ dada por $F(a) = P(X \\leq a)$.\n",
    "\n",
    "**Ejemplo.** Considerando el ejemplo anterior, tenemos que:\n",
    "\n",
    "|  x  |  1  |  2  |  3  |  4  |  5  |  6  |\n",
    "| --- | --- | --- | --- | --- | --- | --- |\n",
    "| p(x)|  0  | 0.3 |  0  |  0  | 0.3 | 0.4 |\n",
    "| F(x)|  0  | 0.3 | 0.3 | 0.3 | 0.6 |  1  |"
   ]
  },
  {
   "cell_type": "markdown",
   "metadata": {},
   "source": [
    "**Propiedades:**\n",
    "\n",
    "- $F$ es no decreciente. Es decir, su gráfica nunca decrece.\n",
    "- $0 \\leq F(a) \\leq 1$.\n",
    "- $\\lim_{a \\to \\infty} F(a) = 1$.\n",
    "- $\\lim_{a \\to -\\infty} F(a) = 0$."
   ]
  },
  {
   "cell_type": "markdown",
   "metadata": {},
   "source": [
    "## 2. Distribuciones específicas"
   ]
  },
  {
   "cell_type": "markdown",
   "metadata": {},
   "source": [
    "### 2.1. Distribución de Bernoulli\n",
    "\n",
    "La distribución de Bernoulli modela una ejecución de un experimento con dos posibles resultados, normalmente denominados éxito y fracaso. Es una de las distribuciones más importantes, y a la vez la más simple.\n",
    "\n",
    "Decimos que una VA $X$ sigue una distribución de Bernoulli con parámtro $p$ si:\n",
    "\n",
    "- $X$ solo puede tomar los valores $0$ y $1$.\n",
    "- $p(X=1) = p$ y $p(X=0)=1-p$.\n",
    "\n",
    "Denotamos esto como $X \\sim \\text{Bernoulli}(p)$.\n",
    "\n",
    "**Ejemplos.** Con la distribución de Bernoulli se pueden modelar los siguientes fenómenos.\n",
    "\n",
    "- Tiro de una moneda. $p$ es la proporción de veces que cae cara.\n",
    "- Votos a favor de una propuesta. $p$ es la proporción de votos a favor de la propuesta.\n",
    "- En un clasificador binario, normalmente la salida la modelamos con una VA de Bernoulli, con parámetro desconocido."
   ]
  },
  {
   "cell_type": "code",
   "execution_count": null,
   "metadata": {},
   "outputs": [],
   "source": []
  },
  {
   "cell_type": "code",
   "execution_count": null,
   "metadata": {},
   "outputs": [],
   "source": []
  },
  {
   "cell_type": "code",
   "execution_count": null,
   "metadata": {},
   "outputs": [],
   "source": []
  },
  {
   "cell_type": "markdown",
   "metadata": {},
   "source": [
    "### 2.2. Distribución Binomial\n",
    "\n",
    "La distribución binomial, $\\text{Binomial}(n, p)$, modela el número de éxitos en $n$ tiros independientes de un experimento $\\text{Bernoulli}(p)$.\n",
    "\n",
    "Es decir, un solo experimento de Bernoulli corresponde, por ejemplo, al tiro de una moneda. Un solo experimento Binomial consiste de $n$ experimentos de Bernoulli.\n",
    "\n",
    "El espacio de resultados de Bernoulli es $\\{0, 1\\}$. El espacio de resultados de Binomial son secuencias de longitud $n$ de ceros y/o unos.\n",
    "\n",
    "Mientras que una VA de Bernoulli puede tomar valores $0$ o $1$, una VA binomial puede tomar valores $0, 1, \\dots, n$.\n",
    "\n",
    "La pmf de una distribución binomial es:\n",
    "\n",
    "$$\n",
    "p(a) = \\left(\\begin{array}{c}n \\\\ a \\end{array}\\right) p^a (1 - p)^{n-a}\n",
    "$$"
   ]
  },
  {
   "cell_type": "markdown",
   "metadata": {},
   "source": [
    "**Ejemplo.** Grafiquemos algunas distribuciones binomiales:"
   ]
  },
  {
   "cell_type": "code",
   "execution_count": null,
   "metadata": {},
   "outputs": [],
   "source": []
  },
  {
   "cell_type": "code",
   "execution_count": null,
   "metadata": {},
   "outputs": [],
   "source": []
  },
  {
   "cell_type": "code",
   "execution_count": null,
   "metadata": {},
   "outputs": [],
   "source": []
  },
  {
   "cell_type": "markdown",
   "metadata": {},
   "source": [
    "### 2.3. Distribución geométrica.\n",
    "\n",
    "La distribución geométrica modela el número de fracasos antes del primer éxito en una secuencia de experimentos de Bernoulli.\n",
    "\n",
    "La VA $X$ sigue una distribución geométrica con parámetro $p$ si,\n",
    "\n",
    "- $X$ toma los valores $0, 1, 2, \\dots$\n",
    "- Su pmf está dada por $p(a) = p (1 - p)^{a}$.\n",
    "\n",
    "La denotamos como $Geom(p)$."
   ]
  },
  {
   "cell_type": "markdown",
   "metadata": {},
   "source": [
    "**Ejemplo.** Grafiquemos algunas distribuciones geométricas:"
   ]
  },
  {
   "cell_type": "code",
   "execution_count": null,
   "metadata": {},
   "outputs": [],
   "source": []
  },
  {
   "cell_type": "code",
   "execution_count": null,
   "metadata": {},
   "outputs": [],
   "source": []
  },
  {
   "cell_type": "code",
   "execution_count": null,
   "metadata": {},
   "outputs": [],
   "source": []
  },
  {
   "cell_type": "markdown",
   "metadata": {},
   "source": [
    "# 3. Valor esperado y varianza.\n",
    "\n",
    "**Ejemplo.** Suponga que tiene un dado justo con cinco 3's y un 6. ¿Cuál esperaría que fuera el promedio de 6000 tiros?\n",
    "\n",
    "> Tablero.\n",
    "\n",
    "**Ejemplo.** Se tiran dos dados de seis caras. Si ganas $1000 si la suma es 2, y pierdes $100 de otro modo, ¿Cuánto esperas ganar en promedio por tiro?\n",
    "\n",
    "> Tablero."
   ]
  },
  {
   "cell_type": "markdown",
   "metadata": {},
   "source": [
    "Una de las operaciones más importantes con probabilidades es la de encontrar promedios ponderados de funciones. El **valor esperado** de una función $f(x)$ respecto a una distribución $p(x)$, denotado por $\\mathbb{E}_p[f]$, está dado por:\n",
    "\n",
    "- Para una distribución discreta:\n",
    "  \n",
    "  $$\n",
    "  \\mathbb{E}_p[f] = \\sum_x p(x)f(x).\n",
    "  $$"
   ]
  },
  {
   "cell_type": "markdown",
   "metadata": {},
   "source": [
    "**Ejemplos.** Simular los promedios anteriores de forma numérica, y contrastarlos con el valor esperado."
   ]
  },
  {
   "cell_type": "code",
   "execution_count": null,
   "metadata": {},
   "outputs": [],
   "source": []
  },
  {
   "cell_type": "code",
   "execution_count": null,
   "metadata": {},
   "outputs": [],
   "source": []
  },
  {
   "cell_type": "code",
   "execution_count": null,
   "metadata": {},
   "outputs": [],
   "source": []
  },
  {
   "cell_type": "markdown",
   "metadata": {},
   "source": [
    "El valor esperado es una *medida de tendencia central*, en el sentido que nos da un valor hacia el cual tiende a agruparse los datos. Una medida de la variabilidad al rededor del valor esperado es **la varianza**, denotada por $\\mathrm{var}_p[f]$, que está definida por:\n",
    "\n",
    "$$\n",
    "\\mathrm{var}_p[f] = \\mathbb{E}_p[(f(x) - \\mathbb{E}_p[f])^2] = \\mathbb{E}_p[f(x)^2] - \\mathbb{E}_p[f]^2.\n",
    "$$"
   ]
  },
  {
   "cell_type": "markdown",
   "metadata": {},
   "source": [
    "# Anuncios parroquiales\n",
    "\n",
    "### 1. Revisar la siguiente [app](https://mathlets.org/mathlets/probability-distributions/).\n",
    "### 2. Ya pueden hacer el ejercicio 4 de la tarea."
   ]
  },
  {
   "cell_type": "markdown",
   "metadata": {},
   "source": [
    "<script>\n",
    "  $(document).ready(function(){\n",
    "    $('div.prompt').hide();\n",
    "    $('div.back-to-top').hide();\n",
    "    $('nav#menubar').hide();\n",
    "    $('.breadcrumb').hide();\n",
    "    $('.hidden-print').hide();\n",
    "  });\n",
    "</script>\n",
    "\n",
    "<footer id=\"attribution\" style=\"float:right; color:#808080; background:#fff;\">\n",
    "Created with Jupyter by Esteban Jiménez Rodríguez.\n",
    "</footer>"
   ]
  }
 ],
 "metadata": {
  "kernelspec": {
   "display_name": "mebo2024_v4",
   "language": "python",
   "name": "python3"
  },
  "language_info": {
   "name": "python",
   "version": "3.9.19"
  }
 },
 "nbformat": 4,
 "nbformat_minor": 2
}

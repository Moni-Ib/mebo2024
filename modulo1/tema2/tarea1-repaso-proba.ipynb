{
 "cells": [
  {
   "cell_type": "markdown",
   "metadata": {},
   "source": [
    "# Tarea 1. Repaso de teoría de probabilidad\n",
    "\n",
    "<img style=\"float: right; margin: 0px 0px 15px 15px;\" src=\"https://storage.needpix.com/rsynced_images/bayesian-2889576_1280.png\" width=\"200px\" height=\"180px\" />\n",
    "\n",
    "Esta constituye la primera tarea del curso. Las tareas están pensadas para que afiances los conocimientos vistos en clase, repases la clase y debas darle una segunda leida. Incluso revisar otro material.\n",
    "\n",
    "Esta primera tarea contiene ejercicios para que repases conceptos básicos de teoría de probabilidad.\n",
    "\n",
    "Por favor, intenta ser lo más explícit@ posible, y en lo posible, apóyate de la escritura matemática con $\\LaTeX$.\n",
    "\n",
    "Recuerda además que ante cualquier duda, me puedes contactar al correo esjimenezro@iteso.mx.\n",
    "\n",
    "<p style=\"text-align:right;\"> Imagen recuperada de: https://storage.needpix.com/rsynced_images/bayesian-2889576_1280.png.</p>\n",
    "\n",
    "___"
   ]
  },
  {
   "cell_type": "markdown",
   "metadata": {},
   "source": [
    "## 1. \n",
    "\n",
    "Supongamos que una prueba para la COVID-19 tiene una precisión del 95%. Esto es, si el paciente está infectado, entonces el resultado de la prueba será positivo con probabilidad de 0.95, y si el paciente NO está infectado, el resutado de la prueba será negativo con probabilidad de 0.95.\n",
    "\n",
    "Además, supongamos que la probabilidad de estar infectado es de 0.017 (1.7%).\n",
    "\n",
    "Ahora, suponga que una persona tuvo un resultado de prueba positivo.\n",
    "\n",
    "1. ¿Cuál es la probabilidad de que esta persona esté infectada en efecto?\n",
    "\n",
    "2. ¿Cuál es la probabilidad de que no esté infectada?"
   ]
  },
  {
   "cell_type": "markdown",
   "metadata": {},
   "source": [
    "Probabilidades:\n",
    "$$\n",
    "p(pos | i)=0.95\n",
    "$$\n",
    "\n",
    "$$\n",
    "p(neg | ni)=0.95\n",
    "$$\n",
    "\n",
    "$$\n",
    "p(i)=0.017\n",
    "$$\n",
    "\n",
    "$$\n",
    "p(ni)=1-p(i)=1-0.017=0.983\n",
    "$$"
   ]
  },
  {
   "cell_type": "markdown",
   "metadata": {},
   "source": [
    "### 1. ¿Cuál es la probabilidad de que esta persona esté infectada en efecto?\n",
    "Se va a calcular usando el Teorema de Bayes\n",
    "$$\n",
    "p(i | pos)=\\frac{p(pos | i) p(i)}{p(pos)}.\n",
    "$$"
   ]
  },
  {
   "cell_type": "markdown",
   "metadata": {},
   "source": [
    "Dado que ya tenemos todas las probabilidades menos la probabilidad de que salga positivo, la tenemos que calcular.\n",
    "$$\n",
    "p(pos)=p(pos | i)p(i) + p(pos | ni)p(ni)\n",
    "$$\n",
    "Para calcular la probabilidad de que sea positivo necesitamos también la probabilidad de que salga positivo dado que no esté infectado\n",
    "$$\n",
    "p(pos|ni)=1-p(neg|ni)=1-0.95=0.05\n",
    "$$\n",
    "Ya que tenemos la probabilidad de que sea positivo pero que no esté infectado, seguimos con el cálculo de la porbabilidad de que sea positivo.\n",
    "$$\n",
    "p(pos) = 0.95(0.017)+0.05(0.983) = 0.0653"
   ]
  },
  {
   "cell_type": "markdown",
   "metadata": {},
   "source": [
    "Ya que obtuvimos la probabilidad de que sea positivo continuamos con el cálculo de que la persona esté infectada en efecto\n",
    "$$\n",
    "p(i | pos)=\\frac{0.95(0.017)}{0.0653} = 0.2473"
   ]
  },
  {
   "cell_type": "markdown",
   "metadata": {},
   "source": [
    "### 2. ¿Cuál es la probabilidad de que no esté infectada?\n",
    "Se va a calcular usando el Teorema de Bayes\n",
    "$$\n",
    "p(ni | pos)=\\frac{p(pos | ni) p(i)}{p(pos)}\n",
    "$$\n",
    "\n",
    "$$\n",
    "p(ni | pos)=\\frac{0.05(0.983)}{0.0653} = 0.7527\n",
    "$$\n",
    "\n",
    "También puede ser calculada como\n",
    "$$ \n",
    "p(ni | pos) = 1-p(i | pos) = 1-0.2473 = 0.7527"
   ]
  },
  {
   "cell_type": "markdown",
   "metadata": {},
   "source": [
    "## 2. \n",
    "\n",
    "(Ejercicio 1.3 Pattern Recognition and Machine Learning, by Christopher M. Bishop.) \n",
    "\n",
    "Supongamos que tenemos tres cajas: $r$ (roja), $a$ (azul), y $v$ (verde). Los contenidos de las cajas son:\n",
    "\n",
    "- $r$: 3 manzanas, 4 naranjas, y 3 limas.\n",
    "- $a$: 1 manzanas, 1 naranjas, y 0 limas.\n",
    "- $v$: 3 manzanas, 3 naranjas, y 4 limas\n",
    "\n",
    "Si la caja se elige aleatoriamente con probabilidades $p(r) = 0.2$, $p(b) = 0.2$, $p(g) = 0.6$, y una fruta se selecciona de la caja elegida, con igual probabilidad de seleccionar cualquier elemento de la caja, \n",
    "\n",
    "1. ¿Cuál es la probabilida de seleccionar una manzana?\n",
    "2. Si observamos que la fruta seleccionada es una naranja, ¿Cuál es la probabilidad de que provenga de la caja verde?"
   ]
  },
  {
   "cell_type": "markdown",
   "metadata": {},
   "source": [
    "### 1. ¿Cuál es la probabilida de seleccionar una manzana?\n",
    "Probabilidades:\n",
    "$$\n",
    "p(r)=0.2\n",
    "$$\n",
    "$$\n",
    "p(a)=0.2\n",
    "$$\n",
    "$$\n",
    "p(v)=0.6\n",
    "$$\n",
    "$$\n",
    "p(m | r)=3/10\n",
    "$$\n",
    "$$\n",
    "p(m | a)=1/2\n",
    "$$\n",
    "$$\n",
    "p(m | v)=3/10\n",
    "$$\n",
    "Entonces:\n",
    "$$\n",
    "p(m)=p(m | r)p(r) + p(m | a)p(a)+p(m | v)p(v)\n",
    "$$\n",
    "$$\n",
    "p(m)=3/10(2/10)+1/2(2/10)+(3/10)(6/10)=17/50\n",
    "$$"
   ]
  },
  {
   "cell_type": "markdown",
   "metadata": {},
   "source": [
    "### 2. Si observamos que la fruta seleccionada es una naranja, ¿Cuál es la probabilidad de que provenga de la caja verde?\n",
    "\n",
    "Calculamos la probabilidad de que provenga de la caja verde dado que es una naranja con la regla de Bayes donde:\n",
    "$$\n",
    "p(v | n)=\\frac{p(n | v) p(v)}{p(n)}\n"
   ]
  },
  {
   "cell_type": "markdown",
   "metadata": {},
   "source": [
    "Por lo tanto también se tiene que calcular la probabilidad de que la fruta sea una naranja:\n",
    "$$\n",
    "p(n)=p(n | r)p(r) + p(n | a)p(a)+p(n | v)p(v)\n",
    "$$\n",
    "$$\n",
    "p(n)=4/10(2/10)+1/2(2/10)+(3/10)(6/10)=9/25\n",
    "$$\n",
    "Continuamos con el cálculo de la probabilidad de que la caja sea verde dado que se escoge una naranja:\n",
    "$$\n",
    "p(v | n)=\\frac{(3/10)(0.6)}{9/25} = 1/2"
   ]
  },
  {
   "cell_type": "markdown",
   "metadata": {},
   "source": [
    "## 3.\n",
    "\n",
    "Leer la **sección 1.2.4. (The Gaussian distribution)** del libro Pattern Recognition and Machine Learning, by Christopher M. Bishop, las páginas 24 y 25 . A partir de ello:\n",
    "\n",
    "1. ¿Cuáles son los parámetros que caracterizan una distribución Gaussiana?, ¿Qué significan?\n",
    "   \n",
    "2. Define una V.A. normal usando `scipy.stats.norm`, con media y varianza que prefieras:\n",
    "   \n",
    "   ```python\n",
    "   x = stats.norm(loc=mu, scale=sigma)\n",
    "   ```\n",
    "   \n",
    "   Luego, muestrea 10, 100, 1000, y 10000 veces esta V.A. usando el método `rvs`:\n",
    "   \n",
    "   ```python\n",
    "   samples = x.rvs(n)\n",
    "   ```\n",
    "   \n",
    "   Finalmente, toma el promedio simple de cada uno de los conjuntos de muestras:\n",
    "   \n",
    "   ```python\n",
    "   samples.mean()\n",
    "   ```\n",
    "   \n",
    "   ¿Qué puedes concluir del efecto de la cantidad de las muestras sobre este promedio?"
   ]
  },
  {
   "cell_type": "markdown",
   "metadata": {},
   "source": []
  },
  {
   "cell_type": "markdown",
   "metadata": {},
   "source": []
  },
  {
   "cell_type": "markdown",
   "metadata": {},
   "source": []
  },
  {
   "cell_type": "markdown",
   "metadata": {},
   "source": [
    "# 4.\n",
    "\n",
    "Es común que haya cierta confusión en el significado del valor esperado. Un significado que le podemos dar a este valor, viene dado por la [ley de los grandes números](https://www.khanacademy.org/math/statistics-probability/random-variables-stats-library/expected-value-lib/v/law-of-large-numbers), que básicamente dice que:\n",
    "\n",
    "$$\n",
    "\\mathbb{E}_p[f] \\to \\frac{1}{N} \\sum_{i=1}^N f(x_i), \\text{ cuando } N \\to \\infty\n",
    "$$"
   ]
  },
  {
   "cell_type": "markdown",
   "metadata": {},
   "source": [
    "Para convencerte de esto, en este ejercicio simularás la tirada de un dado justo:\n",
    "\n",
    "1. Definimos la VA $X$ como el valor que muestra el dado cuando cae, es decir $\\mathrm{Val}(X) = \\{1, 2, 3, 4, 5, 6\\}$.\n",
    "2. Como el dado es justo $P(X=i)=\\frac{1}{|\\mathrm{Val}(X)|}=\\frac{1}{6}$ para todo $i=1,\\dots,6$.\n",
    "\n",
    "¿Cuál es el valor esperado $E[X]$?"
   ]
  },
  {
   "cell_type": "code",
   "execution_count": null,
   "metadata": {},
   "outputs": [],
   "source": []
  },
  {
   "cell_type": "code",
   "execution_count": null,
   "metadata": {},
   "outputs": [],
   "source": [
    "# Calcular el valor esperado teórico de la VA X\n"
   ]
  },
  {
   "cell_type": "markdown",
   "metadata": {},
   "source": [
    "Ahora, viene el paso de simulación. \n",
    "\n",
    "1. Vas a simular por lo menos 1000 veces la tirada del dado, guardando a cada tirada el resultado obtenido.\n",
    "\n",
    "2. Vas a calcular el valor promedio de los resultados *a cada tirada*. Es decir, si los resultados en las primeras $n$ tiradas son $x_1,\\dots,x_n$, el valor promedio en la tirada $n$ es\n",
    "\n",
    "   $$\\bar{x}_n = \\frac{x_1+\\dots+x_n}{n}.$$\n",
    "\n",
    "3. Finalmente, vas a graficar los valores promedio obtenidos a cada tirada (en el eje $y$) vs. el número de tiradas (en el eje $x$). Incluir el valor esperado teórico en la gráfica. ¿Qué observas?\n",
    "\n",
    "*Ayuda: apoyarse del modulo random de numpy.*"
   ]
  },
  {
   "cell_type": "code",
   "execution_count": null,
   "metadata": {},
   "outputs": [],
   "source": [
    "# Simular 1000 veces\n"
   ]
  },
  {
   "cell_type": "code",
   "execution_count": null,
   "metadata": {},
   "outputs": [],
   "source": [
    "# Calcular el valor promedio de los resultados a cada tirada\n"
   ]
  },
  {
   "cell_type": "code",
   "execution_count": null,
   "metadata": {},
   "outputs": [],
   "source": []
  },
  {
   "cell_type": "code",
   "execution_count": null,
   "metadata": {},
   "outputs": [],
   "source": []
  },
  {
   "cell_type": "markdown",
   "metadata": {},
   "source": [
    "# 5.\n",
    "\n",
    "[Lectura recomendada](https://ocw.mit.edu/courses/18-05-introduction-to-probability-and-statistics-spring-2022/mit18_05_s22_class06-prep-b.pdf)"
   ]
  },
  {
   "cell_type": "markdown",
   "metadata": {},
   "source": [
    "<script>\n",
    "  $(document).ready(function(){\n",
    "    $('div.prompt').hide();\n",
    "    $('div.back-to-top').hide();\n",
    "    $('nav#menubar').hide();\n",
    "    $('.breadcrumb').hide();\n",
    "    $('.hidden-print').hide();\n",
    "  });\n",
    "</script>\n",
    "\n",
    "<footer id=\"attribution\" style=\"float:right; color:#808080; background:#fff;\">\n",
    "Created with Jupyter by Esteban Jiménez Rodríguez.\n",
    "</footer>"
   ]
  }
 ],
 "metadata": {
  "kernelspec": {
   "display_name": "Python 3 (ipykernel)",
   "language": "python",
   "name": "python3"
  },
  "language_info": {
   "codemirror_mode": {
    "name": "ipython",
    "version": 3
   },
   "file_extension": ".py",
   "mimetype": "text/x-python",
   "name": "python",
   "nbconvert_exporter": "python",
   "pygments_lexer": "ipython3",
   "version": "3.9.19"
  }
 },
 "nbformat": 4,
 "nbformat_minor": 4
}
